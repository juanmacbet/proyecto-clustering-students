{
  "nbformat": 4,
  "nbformat_minor": 0,
  "metadata": {
    "colab": {
      "provenance": []
    },
    "kernelspec": {
      "name": "python3",
      "display_name": "Python 3"
    },
    "language_info": {
      "name": "python"
    }
  },
  "cells": [
    {
      "cell_type": "markdown",
      "source": [
        "# Importaciones"
      ],
      "metadata": {
        "id": "u6Uvfv19P3qc"
      }
    },
    {
      "cell_type": "code",
      "execution_count": null,
      "metadata": {
        "id": "KES7h2Blq6jX"
      },
      "outputs": [],
      "source": [
        "# Importamos las librerías necesarias\n",
        "import pandas as pd\n",
        "import numpy as np\n",
        "import matplotlib.pyplot as plt\n",
        "import seaborn as sns\n",
        "import plotly.express as px\n",
        "from sklearn.preprocessing import StandardScaler\n",
        "from sklearn.metrics import silhouette_score\n",
        "from sklearn.cluster import KMeans\n",
        "from sklearn.decomposition import PCA\n",
        "from sklearn.manifold import TSNE\n",
        "from google.colab import files"
      ]
    },
    {
      "cell_type": "code",
      "source": [
        "# Descargamos el Dataset desde el enlace\n",
        "url = \"https://drive.google.com/uc?export=download&id=1Ds68fJvZK9MlVxeWQ2S7M4_v-PibzOqN\"\n",
        "# Leemos el Dataset\n",
        "df = pd.read_csv(url)"
      ],
      "metadata": {
        "id": "X60fjwNprqHn"
      },
      "execution_count": null,
      "outputs": []
    },
    {
      "cell_type": "markdown",
      "source": [
        "# Preprocesamiento del DataFrame"
      ],
      "metadata": {
        "id": "Nyr-7GSIP92e"
      }
    },
    {
      "cell_type": "code",
      "source": [
        "# Exploración inicial\n",
        "print(\"Dimensiones del dataset:\", df.shape)\n",
        "print(\"Primeras filas:\")\n",
        "df.head()"
      ],
      "metadata": {
        "id": "d0c9VDAis792"
      },
      "execution_count": null,
      "outputs": []
    },
    {
      "cell_type": "code",
      "source": [
        "# Elimino la columna Student_ID porque no nos aporta nada\n",
        "df = df.drop(columns=[\"Student_ID\"])\n",
        "df.head()"
      ],
      "metadata": {
        "id": "pM_wRoiyuRm_"
      },
      "execution_count": null,
      "outputs": []
    },
    {
      "cell_type": "code",
      "source": [
        "# Reemplazo los valores de Stress_Level por números\n",
        "stress_mapping = {\"Low\": 0, \"Moderate\": 1, \"High\": 2}\n",
        "df[\"Stress_Level\"] = df[\"Stress_Level\"].map(stress_mapping)\n",
        "\n",
        "# Verificar resultado\n",
        "df[[\"Stress_Level\"]].head()"
      ],
      "metadata": {
        "id": "WoIcgx3HupSa"
      },
      "execution_count": null,
      "outputs": []
    },
    {
      "cell_type": "code",
      "source": [
        "# Reviso si hay valores nulos\n",
        "df.isnull().sum()"
      ],
      "metadata": {
        "id": "ztgXoMPL9RUc"
      },
      "execution_count": null,
      "outputs": []
    },
    {
      "cell_type": "code",
      "source": [
        "# Veo en detalle el DataFrame\n",
        "print(\"Resumen estadístico:\")\n",
        "df.describe()"
      ],
      "metadata": {
        "id": "t6-0z1bFuAv9"
      },
      "execution_count": null,
      "outputs": []
    },
    {
      "cell_type": "code",
      "source": [
        "# Visualizamos los datos de cada variable para ver los outliners\n",
        "\n",
        "cols = [\n",
        "    \"Study_Hours_Per_Day\",\n",
        "    \"Extracurricular_Hours_Per_Day\",\n",
        "    \"Sleep_Hours_Per_Day\",\n",
        "    \"Social_Hours_Per_Day\",\n",
        "    \"Physical_Activity_Hours_Per_Day\",\n",
        "    \"GPA\",\n",
        "    \"Stress_Level\"\n",
        "]\n",
        "\n",
        "# Crear figura con subplots\n",
        "plt.figure(figsize=(15, 10))\n",
        "\n",
        "for i, col in enumerate(cols, 1):\n",
        "    plt.subplot(3, 3, i)\n",
        "    sns.boxplot(y=df[col])\n",
        "    plt.title(col)\n",
        "\n",
        "plt.tight_layout()\n",
        "plt.show()"
      ],
      "metadata": {
        "id": "VRx0OeSe-Xim"
      },
      "execution_count": null,
      "outputs": []
    },
    {
      "cell_type": "markdown",
      "source": [
        "# Análisis introductorio"
      ],
      "metadata": {
        "id": "1XBbdZMPQePL"
      }
    },
    {
      "cell_type": "code",
      "source": [
        "# Imprimo la media y los valores máximos y mínimos del GPA\n",
        "mean_gpa = float(df[\"GPA\"].mean())\n",
        "gpa_min = float(df[\"GPA\"].min())\n",
        "gpa_max = float(df[\"GPA\"].max())\n",
        "\n",
        "print(\"Media de GPA:\",mean_gpa)\n",
        "print(\"GPA más bajo:\", gpa_min)\n",
        "print(\"GPA más alto:\", gpa_max)"
      ],
      "metadata": {
        "id": "DDMmRPDPXJoY"
      },
      "execution_count": null,
      "outputs": []
    },
    {
      "cell_type": "code",
      "source": [
        "# Creamos un gráfico matriz de relación donde se vean las correlaciones entre las variables\n",
        "\n",
        "# Calcular la matriz de correlación entre todas las variables\n",
        "corr_all = df[[\"Study_Hours_Per_Day\", \"Stress_Level\", \"Sleep_Hours_Per_Day\", \"Extracurricular_Hours_Per_Day\", \"Social_Hours_Per_Day\", \"Physical_Activity_Hours_Per_Day\", \"GPA\"]].corr()\n",
        "\n",
        "# Graficar heatmap\n",
        "plt.figure(figsize=(7, 6))\n",
        "sns.heatmap(corr_all, annot=True, cmap='coolwarm', fmt=\".2f\")\n",
        "plt.title('Correlaciones entre variables')\n",
        "plt.show()"
      ],
      "metadata": {
        "id": "M21d5I4Sypj5"
      },
      "execution_count": null,
      "outputs": []
    },
    {
      "cell_type": "code",
      "source": [
        "# Creamos un gráfico donde se muestre el promedio de horas de sueño según nivel de estrés\n",
        "\n",
        "# Calcular promedio de horas de sueño por nivel de estrés\n",
        "stress_sleep = df.groupby(\"Stress_Level\")[\"Sleep_Hours_Per_Day\"].mean().reset_index()\n",
        "\n",
        "# Valores mínimo y máximo de todo el dataset\n",
        "min_sleep = df[\"Sleep_Hours_Per_Day\"].min()\n",
        "max_sleep = df[\"Sleep_Hours_Per_Day\"].max()\n",
        "\n",
        "# Gráfico de barras\n",
        "plt.figure(figsize=(6,5))\n",
        "ax = sns.barplot(\n",
        "    x=\"Stress_Level\",\n",
        "    y=\"Sleep_Hours_Per_Day\",\n",
        "    data=stress_sleep,\n",
        "    hue=\"Stress_Level\",\n",
        "    palette=\"Set2\",\n",
        "    legend=False\n",
        ")\n",
        "\n",
        "plt.title(\"Promedio de horas de sueño según nivel de estrés\")\n",
        "plt.xlabel(\"Nivel de Estrés\")\n",
        "plt.ylabel(\"Horas de Sueño (promedio)\")\n",
        "\n",
        "# Escala ajustada al rango real de los estudiantes\n",
        "plt.ylim(min_sleep, max_sleep)\n",
        "\n",
        "# Añadir valores encima de cada barra\n",
        "for p in ax.patches:\n",
        "    height = p.get_height()\n",
        "    ax.text(\n",
        "        p.get_x() + p.get_width()/2.,\n",
        "        height + 0.05,\n",
        "        f\"{height:.2f}\",\n",
        "        ha=\"center\"\n",
        "    )\n",
        "\n",
        "plt.show()"
      ],
      "metadata": {
        "id": "TIAGC_zHZYY0"
      },
      "execution_count": null,
      "outputs": []
    },
    {
      "cell_type": "code",
      "source": [
        "# Creamos un gráfico donde se vea la relación entre horas de sueño y horas de estudio según nivel de estrés\n",
        "\n",
        "plt.figure(figsize=(8,6))\n",
        "sns.scatterplot(\n",
        "    data=df,\n",
        "    x=\"Study_Hours_Per_Day\",\n",
        "    y=\"Sleep_Hours_Per_Day\",\n",
        "    hue=\"Stress_Level\",\n",
        "    palette=\"Set2\",\n",
        "    s=100, alpha=0.7\n",
        ")\n",
        "plt.title(\"Relación entre horas de sueño y horas de estudio según nivel de estrés\")\n",
        "plt.show()"
      ],
      "metadata": {
        "id": "726uT4273lM7"
      },
      "execution_count": null,
      "outputs": []
    },
    {
      "cell_type": "code",
      "source": [
        "# Creamos un gráfico donde se vea la relación entre actividad física, estudio y sueño según el GPA\n",
        "\n",
        "# Calcular percentiles para dividir GPA en tres grupos\n",
        "q25 = df['GPA'].quantile(0.25)\n",
        "q75 = df['GPA'].quantile(0.75)\n",
        "\n",
        "# Función para asignar grupo según GPA\n",
        "def gpa_group(gpa):\n",
        "    if gpa <= q25:\n",
        "        return 'GPA Bajo'\n",
        "    elif gpa >= q75:\n",
        "        return 'GPA Alto'\n",
        "    else:\n",
        "        return 'GPA Medio'\n",
        "\n",
        "# Crear columna temporal con el grupo de GPA\n",
        "df['GPA_Group'] = df['GPA'].apply(gpa_group)\n",
        "\n",
        "# Gráfica 3D interactiva\n",
        "fig = px.scatter_3d(df,\n",
        "                    x='Physical_Activity_Hours_Per_Day',\n",
        "                    y='Study_Hours_Per_Day',\n",
        "                    z='Sleep_Hours_Per_Day',\n",
        "                    color='GPA_Group',\n",
        "                    width=1200, height=600,\n",
        "                    color_discrete_map={\n",
        "                        'GPA Bajo': 'red',\n",
        "                        'GPA Medio': 'orange',\n",
        "                        'GPA Alto': 'green'\n",
        "                    })\n",
        "\n",
        "fig.update_traces(marker_size=4)\n",
        "fig.update_layout(title=\"Relación entre actividad física, estudio y sueño según el GPA\",\n",
        "                  scene=dict(\n",
        "                      xaxis_title='Horas de actividad física por día',\n",
        "                      yaxis_title='Horas de estudio por día',\n",
        "                      zaxis_title='Horas de sueño por día'\n",
        "                  ))\n",
        "fig.show()\n",
        "\n",
        "# Eliminar la columna temporal para no modificar permanentemente el DataFrame\n",
        "df.drop(columns=['GPA_Group'], inplace=True)"
      ],
      "metadata": {
        "id": "u8A_ZhOF9tNd"
      },
      "execution_count": null,
      "outputs": []
    },
    {
      "cell_type": "markdown",
      "source": [
        "# Clustering"
      ],
      "metadata": {
        "id": "g1b_Ujj0W7Xk"
      }
    },
    {
      "cell_type": "code",
      "source": [
        "# Seleccionar columnas para el clustering\n",
        "X = df[[\"Study_Hours_Per_Day\", \"Extracurricular_Hours_Per_Day\",\n",
        "        \"Sleep_Hours_Per_Day\", \"Social_Hours_Per_Day\",\n",
        "        \"Physical_Activity_Hours_Per_Day\", \"Stress_Level\"]]"
      ],
      "metadata": {
        "id": "eM6DNKiB-qjI"
      },
      "execution_count": null,
      "outputs": []
    },
    {
      "cell_type": "code",
      "source": [
        "# Escalar las variables\n",
        "scaler = StandardScaler()\n",
        "X_scaled = scaler.fit_transform(X)"
      ],
      "metadata": {
        "id": "a0FHhbJbAl17"
      },
      "execution_count": null,
      "outputs": []
    },
    {
      "cell_type": "code",
      "source": [
        "# Determinar el número óptimo de clusters\n",
        "\n",
        "scores = []\n",
        "for k in range(2, 8):  # probamos de 2 a 7 clusters\n",
        "    kmeans = KMeans(n_clusters=k, random_state=42)\n",
        "    labels = kmeans.fit_predict(X_scaled)\n",
        "    score = silhouette_score(X_scaled, labels)\n",
        "    scores.append(score)\n",
        "\n",
        "optimal_k = scores.index(max(scores)) + 2\n",
        "print(\"Número óptimo de clusters:\", optimal_k)"
      ],
      "metadata": {
        "id": "XOZrzkaUBAHs"
      },
      "execution_count": null,
      "outputs": []
    },
    {
      "cell_type": "code",
      "source": [
        "# Crear el modelo usando el número óptimo de clusters\n",
        "\n",
        "kmeans_final = KMeans(n_clusters=optimal_k, random_state=42, n_init=10)\n",
        "df['Cluster'] = kmeans_final.fit_predict(X_scaled)\n",
        "\n",
        "# Revisar cuántos estudiantes hay en cada cluster\n",
        "print(df['Cluster'].value_counts())"
      ],
      "metadata": {
        "id": "HAqhreZvCztc"
      },
      "execution_count": null,
      "outputs": []
    },
    {
      "cell_type": "code",
      "source": [
        "df['Cluster'].head(5)"
      ],
      "metadata": {
        "id": "GuzvF4zoDJPh"
      },
      "execution_count": null,
      "outputs": []
    },
    {
      "cell_type": "markdown",
      "source": [
        "# Análisis tras la asignación de los Clusters"
      ],
      "metadata": {
        "id": "xJ15rFMfQpkV"
      }
    },
    {
      "cell_type": "code",
      "source": [
        "# Creamos un gráfico donde para el Cluster 1 se vea la relación entre horas de estudio y horas de actividad física según el nivel de estrés\n",
        "\n",
        "# Filtrar los estudiantes del Cluster 1\n",
        "cluster1_df = df[df['Cluster'] == 1]\n",
        "\n",
        "# Gráfico de dispersión con color según nivel de estrés\n",
        "plt.figure(figsize=(8,6))\n",
        "sns.scatterplot(\n",
        "    data=cluster1_df,\n",
        "    x='Study_Hours_Per_Day',\n",
        "    y='Physical_Activity_Hours_Per_Day',\n",
        "    hue='Stress_Level',\n",
        "    palette='Set2',\n",
        "    s=80\n",
        ")\n",
        "\n",
        "plt.title('Cluster 1: Relación entre horas de estudio y horas de actividad física según el nivel de estrés')\n",
        "plt.xlabel('Horas de estudio por día')\n",
        "plt.ylabel('Horas de actividad física por día')\n",
        "plt.legend(title='Nivel de estrés')\n",
        "plt.show()"
      ],
      "metadata": {
        "id": "Uqg4ercfFxO2"
      },
      "execution_count": null,
      "outputs": []
    },
    {
      "cell_type": "code",
      "source": [
        "# Creamos un gráfico donde para el Cluster 2 se vea la relación entre horas de sueño y GPA mostrando el porcentaje de estudiantes que se encuentra en cada rango horario\n",
        "\n",
        "# Filtrar estudiantes del Cluster 2\n",
        "cluster2_df = df[df['Cluster'] == 2]\n",
        "\n",
        "# Definir rangos de horas de sueño\n",
        "ranges = [(0, 5.99), (6, 7.49), (7.5, 8.99), (9, cluster2_df['Sleep_Hours_Per_Day'].max()+0.5)]\n",
        "colors = ['#FFC1C1', '#FFE4B5', '#C1FFC1', '#ADD8E6']\n",
        "\n",
        "# Calcular porcentajes\n",
        "percentages = []\n",
        "for low, high in ranges:\n",
        "    count = cluster2_df[(cluster2_df['Sleep_Hours_Per_Day'] >= low) &\n",
        "                        (cluster2_df['Sleep_Hours_Per_Day'] <= high)].shape[0]\n",
        "    percentages.append(count / cluster2_df.shape[0] * 100)\n",
        "\n",
        "# Crear gráfico\n",
        "plt.figure(figsize=(10,6))\n",
        "\n",
        "# Dibujar bandas\n",
        "min_x = cluster2_df['Sleep_Hours_Per_Day'].min() - 0.5\n",
        "max_x = cluster2_df['Sleep_Hours_Per_Day'].max() + 0.5\n",
        "min_y = cluster2_df['GPA'].min()\n",
        "max_y = cluster2_df['GPA'].max()\n",
        "\n",
        "for (low, high), color in zip(ranges, colors):\n",
        "    plt.axvspan(low, high, color=color, alpha=0.4)\n",
        "\n",
        "# Graficar puntos\n",
        "plt.scatter(\n",
        "    cluster2_df['Sleep_Hours_Per_Day'],\n",
        "    cluster2_df['GPA'],\n",
        "    color='blue'\n",
        ")\n",
        "\n",
        "# Ajustes de ejes\n",
        "plt.xlim(min_x, max_x)\n",
        "plt.ylim(min_y-0.3, max_y+0.2)\n",
        "\n",
        "# Posición vertical para los porcentajes\n",
        "y_offset = min_y - 0.15\n",
        "\n",
        "# Dibujar porcentajes centrados en cada rango\n",
        "for (low, high), pct in zip(ranges, percentages):\n",
        "    visible_low = max(low, min_x)\n",
        "    visible_high = min(high, max_x)\n",
        "    center_x = (visible_low + visible_high) / 2\n",
        "\n",
        "    plt.text(center_x, y_offset, f'{pct:.1f}%',\n",
        "             ha='center', va='top', fontsize=12, color='black')\n",
        "\n",
        "plt.xlabel('Horas de sueño por día')\n",
        "plt.ylabel('GPA')\n",
        "plt.title('Cluster 2: Relación entre horas de sueño y GPA')\n",
        "plt.show()\n"
      ],
      "metadata": {
        "id": "1lWnZXSKvBnX"
      },
      "execution_count": null,
      "outputs": []
    },
    {
      "cell_type": "code",
      "source": [
        "# Creamos un gráfico donde se vea la distribución de Clusters dentro de cada rango de resultados de GPA\n",
        "\n",
        "# Calcular percentiles de GPA\n",
        "q25 = df['GPA'].quantile(0.25)\n",
        "q75 = df['GPA'].quantile(0.75)\n",
        "\n",
        "def gpa_group(gpa):\n",
        "    if gpa <= q25:\n",
        "        return 'GPA Bajo'\n",
        "    elif gpa >= q75:\n",
        "        return 'GPA Alto'\n",
        "    else:\n",
        "        return 'GPA Medio'\n",
        "\n",
        "df['GPA_Group'] = df['GPA'].apply(gpa_group)\n",
        "\n",
        "# Colores de clusters\n",
        "cluster_colors = {0:'red', 1:'green', 2:'blue', 3:'orange'}\n",
        "\n",
        "fig, axes = plt.subplots(1, 3, figsize=(18,6))\n",
        "\n",
        "for ax, group_name in zip(axes, ['GPA Bajo', 'GPA Medio', 'GPA Alto']):\n",
        "    subset = df[df['GPA_Group'] == group_name]\n",
        "    cluster_counts = subset['Cluster'].value_counts()\n",
        "    percentages = cluster_counts / cluster_counts.sum() * 100\n",
        "\n",
        "    # Ordenar de mayor a menor\n",
        "    percentages = percentages.sort_values(ascending=False)\n",
        "\n",
        "    # Gráfico de pastel\n",
        "    ax.pie(\n",
        "        percentages,\n",
        "        labels=None,\n",
        "        colors=[cluster_colors[c] for c in percentages.index],\n",
        "        startangle=90\n",
        "    )\n",
        "    ax.set_title(group_name)\n",
        "    ax.axis('equal')\n",
        "\n",
        "    text_lines = [f\"{percentages[c]:.1f}% Cluster {c}\" for c in percentages.index]\n",
        "    text = \"\\n\".join(text_lines)\n",
        "    ax.text(0, -1.2, text, ha='center', va='top',\n",
        "        bbox=dict(facecolor='white', edgecolor='black', boxstyle='round,pad=0.5'))\n",
        "\n",
        "# Leyenda de colores de clusters\n",
        "handles = [plt.Line2D([0], [0], marker='s', color='w', label=f'Cluster {c}',\n",
        "                      markerfacecolor=color, markersize=15)\n",
        "           for c, color in cluster_colors.items()]\n",
        "fig.legend(handles=handles, loc='upper right')\n",
        "\n",
        "plt.suptitle('Distribución de Clusters dentro de resultados de GPA')\n",
        "plt.show()\n",
        "\n",
        "# Eliminar columna temporal\n",
        "df.drop(columns=['GPA_Group'], inplace=True)"
      ],
      "metadata": {
        "id": "v95Z-RYUxCew"
      },
      "execution_count": null,
      "outputs": []
    },
    {
      "cell_type": "code",
      "source": [
        "# Creamos un gráfico donde se vea la distribución de niveles de estrés por Cluster\n",
        "\n",
        "# Calcular conteos por nivel de estrés dentro de cada cluster (para todos los clusters)\n",
        "counts = (\n",
        "    df\n",
        "    .groupby(['Cluster', 'Stress_Level'])\n",
        "    .size()\n",
        "    .unstack(fill_value=0)\n",
        ")\n",
        "\n",
        "# Asegurarse de que siempre haya columnas para 0,1,2\n",
        "counts = counts.reindex(columns=[0, 1, 2], fill_value=0)\n",
        "\n",
        "# Convertir a porcentajes por cluster\n",
        "percentages = counts.div(counts.sum(axis=1), axis=0) * 100\n",
        "\n",
        "heatmap_data = percentages.T  # filas estrés (0,1,2), columnas clusters (0,1,2,3)\n",
        "\n",
        "# Invertir el eje y para que el nivel 2 aparezca arriba\n",
        "heatmap_data = heatmap_data.iloc[::-1]\n",
        "\n",
        "plt.figure(figsize=(8,6))\n",
        "sns.heatmap(\n",
        "    heatmap_data,\n",
        "    annot=True, fmt=\".1f\", cmap=\"YlOrRd\",\n",
        "    cbar_kws={'label': 'Porcentaje (%)'}\n",
        ")\n",
        "\n",
        "plt.title(\"Distribución de niveles de estrés por Cluster\")\n",
        "plt.xlabel(\"Cluster\")\n",
        "plt.ylabel(\"Nivel de Estrés\")\n",
        "plt.yticks(rotation=0)\n",
        "plt.show()"
      ],
      "metadata": {
        "id": "SEicpCqBAAPi"
      },
      "execution_count": null,
      "outputs": []
    },
    {
      "cell_type": "code",
      "source": [
        "# Creamos un gráfico donde se muestren los 100 estudiantes con mayor GPA diferenciados por cluster y su relación entre GPA y horas de estudio\n",
        "\n",
        "# Colores de los clusters\n",
        "cluster_colors = {0:'red', 1:'green', 2:'blue', 3:'orange'}\n",
        "\n",
        "# Seleccionar los 100 estudiantes con mayor GPA\n",
        "top_students = df.nlargest(100, 'GPA')\n",
        "\n",
        "plt.figure(figsize=(8,6))\n",
        "sns.scatterplot(\n",
        "    data=top_students,\n",
        "    x=\"Study_Hours_Per_Day\",\n",
        "    y=\"GPA\",\n",
        "    hue=\"Cluster\",\n",
        "    palette=cluster_colors,\n",
        "    s=100,\n",
        "    alpha=0.7\n",
        ")\n",
        "plt.title(\"Top 100 estudiantes con mayor GPA: Relación entre GPA y horas de Estudio\")\n",
        "plt.xlabel(\"Horas de Estudio por Día\")\n",
        "plt.ylabel(\"GPA\")\n",
        "plt.legend(title=\"Cluster\")\n",
        "plt.show()\n"
      ],
      "metadata": {
        "id": "mQNLjZ5aHFnv"
      },
      "execution_count": null,
      "outputs": []
    },
    {
      "cell_type": "code",
      "source": [
        "# Creamos varios gráficos donde se pueda ver la distribución de estudiantes por cada cluster en diferentes habitos y registros\n",
        "\n",
        "# Lista de atributos\n",
        "attributes = [\n",
        "    'GPA',\n",
        "    'Sleep_Hours_Per_Day',\n",
        "    'Study_Hours_Per_Day',\n",
        "    'Social_Hours_Per_Day',\n",
        "    'Physical_Activity_Hours_Per_Day',\n",
        "    'Extracurricular_Hours_Per_Day'\n",
        "]\n",
        "\n",
        "# Colores de los clusters\n",
        "cluster_colors = {0:'red', 1:'green', 2:'blue', 3:'orange'}\n",
        "\n",
        "# Crear subplots\n",
        "fig, axes = plt.subplots(nrows=2, ncols=3, figsize=(18,10))\n",
        "axes = axes.flatten()\n",
        "\n",
        "for ax, attr in zip(axes, attributes):\n",
        "    sns.stripplot(\n",
        "        data=df,\n",
        "        x='Cluster',\n",
        "        y=attr,\n",
        "        hue='Cluster',         # asignar el cluster como hue\n",
        "        palette=cluster_colors,\n",
        "        dodge=False,\n",
        "        size=6,\n",
        "        alpha=0.7,\n",
        "        ax=ax,\n",
        "        legend=False\n",
        "    )\n",
        "    ax.set_title(attr)\n",
        "    ax.set_xlabel(\"Cluster\")\n",
        "    ax.set_ylabel(attr)\n",
        "\n",
        "plt.tight_layout()\n",
        "plt.show()"
      ],
      "metadata": {
        "id": "ngJJ8TnuLrvm"
      },
      "execution_count": null,
      "outputs": []
    },
    {
      "cell_type": "markdown",
      "source": [
        "# Pasar a CSV"
      ],
      "metadata": {
        "id": "RVRNQdF843GC"
      }
    },
    {
      "cell_type": "code",
      "source": [
        "# Creamos un nuevo Dataframe aparte sin la variable cluster\n",
        "X = df.drop(columns=[\"Cluster\"])\n",
        "X = StandardScaler().fit_transform(X) # Escalamos las variables numéricas de este Dataframe aparte\n",
        "\n",
        "# Reducimos dimensionalidad con PCA\n",
        "pca = PCA(n_components=2)\n",
        "pca_coords = pca.fit_transform(X)\n",
        "\n",
        "# Creamos los atributos PCA1 y PCA2 en el DataFrame original\n",
        "df[\"PCA1\"] = pca_coords[:, 0]\n",
        "df[\"PCA2\"] = pca_coords[:, 1]\n",
        "\n",
        "# Reducimos dimensionalidad con t-SNE\n",
        "tsne = TSNE(n_components=2, random_state=42, perplexity=30, max_iter=2000)\n",
        "tsne_coords = tsne.fit_transform(X)\n",
        "\n",
        "# Creamos los atributos TSNE1 y TSNE2 en el DataFrame original\n",
        "df[\"tSNE1\"] = tsne_coords[:, 0]\n",
        "df[\"tSNE2\"] = tsne_coords[:, 1]"
      ],
      "metadata": {
        "id": "5Vqjitxh5Fpj"
      },
      "execution_count": null,
      "outputs": []
    },
    {
      "cell_type": "code",
      "source": [
        "# Exportamos el DataFrame a CSV indicando que las separaciones serán \";\" y los decimales serán \",\"\n",
        "df.to_csv(\"clusters_students_visualization.csv\", sep=\";\", decimal=\",\", index=False)"
      ],
      "metadata": {
        "id": "mpzvUiAyH50e"
      },
      "execution_count": null,
      "outputs": []
    },
    {
      "cell_type": "code",
      "source": [
        "# Descargamos el CSV\n",
        "files.download(\"clusters_students_visualization.csv\")"
      ],
      "metadata": {
        "id": "Vp09NyvHJNiF"
      },
      "execution_count": null,
      "outputs": []
    }
  ]
}